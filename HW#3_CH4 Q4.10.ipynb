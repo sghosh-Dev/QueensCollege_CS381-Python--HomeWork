{
 "cells": [
  {
   "cell_type": "code",
   "execution_count": 3,
   "id": "6137e69d",
   "metadata": {},
   "outputs": [
    {
     "name": "stdout",
     "output_type": "stream",
     "text": [
      "3.0\n"
     ]
    }
   ],
   "source": [
    "#Question 4.5\n",
    "def calc_slope(x1,y1,x2,y2):\n",
    "    delta_x = x2 - x1\n",
    "    delta_y = y2 - y1\n",
    "    slope = delta_y/delta_x\n",
    "    return slope\n",
    "\n",
    "print(calc_slope(6,3,8,9))"
   ]
  },
  {
   "cell_type": "code",
   "execution_count": 41,
   "id": "7c927a42",
   "metadata": {},
   "outputs": [
    {
     "name": "stdout",
     "output_type": "stream",
     "text": [
      "What ist the product of 4 x 2 ?\n",
      "Answeer: 8\n",
      "Do you want to play again? yes\n",
      "What ist the product of 8 x 4 ?\n",
      "Answeer: 32\n",
      "Do you want to play again? no\n",
      "Exiting... Exited\n"
     ]
    }
   ],
   "source": [
    "#Question 4.10\n",
    "import random \n",
    "play = True\n",
    "\n",
    "while(play):\n",
    "    a = random.randint(1,10)\n",
    "    b = random.randint(1,10)\n",
    "    p = a * b\n",
    "    print(\"What ist the product of\", a, \"x\", b, \"?\")\n",
    "\n",
    "    ans = int(input(\"Answeer: \"))\n",
    "\n",
    "    if(p!=ans):\n",
    "        play=False\n",
    "        print(\"That answer is incorrect. The Correct answer is: \", p)\n",
    "    elif(p==ans):\n",
    "        again = input(\"Do you want to play again? \")\n",
    "    if again == \"no\":\n",
    "        play = False\n",
    "        print(\"Exiting... Exited\")\n",
    "    "
   ]
  },
  {
   "cell_type": "code",
   "execution_count": 55,
   "id": "6c585992",
   "metadata": {},
   "outputs": [
    {
     "name": "stdout",
     "output_type": "stream",
     "text": [
      "How much is 3 x 9 ?\n",
      "Answer:5\n",
      "Oops, Please try again\n",
      "How much is 3 x 9 ?\n",
      "Answer:27\n",
      "Very Good!\n",
      "Would you like to play again?no\n"
     ]
    }
   ],
   "source": [
    "#Question 4.14\n",
    "\n",
    "import numpy as np\n",
    "import random\n",
    "\n",
    "def CAI():\n",
    "    m = np.random.randint(1,10, size=2)\n",
    "    tuple1 = tuple(m)\n",
    "    return tuple1\n",
    "    \n",
    "play1 = True\n",
    "tuple1 = CAI()\n",
    "\n",
    "while(play1):\n",
    "    int1, int2 = tuple1\n",
    "    prod = int1 * int2\n",
    "    print(\"How much is\", int1, \"x\", int2, \"?\")\n",
    "    ans1 = int(input(\"Answer:\"))\n",
    "    \n",
    "    if(prod==ans1):\n",
    "        print(\"Very Good!\")\n",
    "        ans2 = input(\"Would you like to play again?\")\n",
    "        if ans2 == \"no\":\n",
    "            play1= False\n",
    "        else:\n",
    "            tuple1 = CAI()\n",
    "    else:\n",
    "        print(\"Oops, Please try again\")\n",
    "        #print(\"How much is\", int1, \"x\", int2, \"?\")\n",
    "        #ans1 = int(input(\"Answer:\"))\n",
    "\n",
    "#The Question didnt specify what to do after the student gets it right, in this the student is asked, if \"no\" then exit but\n",
    "#otherwise it restarts with another set of numbers."
   ]
  },
  {
   "cell_type": "code",
   "execution_count": null,
   "id": "1d2d437d",
   "metadata": {},
   "outputs": [],
   "source": [
    "#Question 4.20\n",
    "\n",
    "What is the difference between the population standard deviation and sample standard deviation? \n",
    "The difference is how you would use each:\n",
    "    You calulate the population SD when the dataset represents an entire population\n",
    "    Whereas you calculate Sample SD when the dataset represents a sample taken from a larger population of interest.\n",
    "The difference in calculating is whether you are dividing by N or N-1"
   ]
  }
 ],
 "metadata": {
  "kernelspec": {
   "display_name": "Python 3 (ipykernel)",
   "language": "python",
   "name": "python3"
  },
  "language_info": {
   "codemirror_mode": {
    "name": "ipython",
    "version": 3
   },
   "file_extension": ".py",
   "mimetype": "text/x-python",
   "name": "python",
   "nbconvert_exporter": "python",
   "pygments_lexer": "ipython3",
   "version": "3.9.12"
  }
 },
 "nbformat": 4,
 "nbformat_minor": 5
}
