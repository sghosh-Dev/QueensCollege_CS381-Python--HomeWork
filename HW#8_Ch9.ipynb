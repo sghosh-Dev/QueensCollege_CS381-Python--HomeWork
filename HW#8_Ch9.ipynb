{
 "cells": [
  {
   "cell_type": "code",
   "execution_count": null,
   "id": "0b88df3d",
   "metadata": {},
   "outputs": [
    {
     "name": "stdout",
     "output_type": "stream",
     "text": [
      "Enter the number of students: 30\n",
      "\n",
      "Enter First Name of Student 1: Sourov \n",
      "Enter Last Name of Student 1: Ghosh\n",
      "Enter Ex_am 1 Grade of Student 1: 100\n",
      "Enter Ex_am 2 Grade of Student 1: 100\n",
      "Enter Ex_am 3 Grade of Student 1: 100\n"
     ]
    }
   ],
   "source": [
    "#Question 9.3\n",
    "import csv\n",
    "\n",
    "n = int(input(\"Enter the number of students: \"))\n",
    "    \n",
    "rows = [[\"First Name\", \"Last Name\", \"Ex_am 1 Grade\", \"Ex_am 2 Grade\", \"Ex_am 3 Grade\"]]\n",
    "\n",
    "    \n",
    "for i in range(n):\n",
    "    first = input(\"\\nEnter First Name of Student \"+str(i+1)+\": \")\n",
    "    last = input(\"Enter Last Name of Student \"+str(i+1)+\": \")\n",
    "    ex1 = int(input(\"Enter Ex_am 1 Grade of Student \"+str(i+1)+\": \"))\n",
    "    ex2 = int(input(\"Enter Ex_am 2 Grade of Student \"+str(i+1)+\": \"))\n",
    "    ex3 = int(input(\"Enter Ex_am 3 Grade of Student \"+str(i+1)+\": \"))\n",
    "\n",
    "    rows.append([first,last,ex1,ex2,ex3])\n",
    "        \n",
    "with open(\"grades.csv\",'w',newline = '') as _file:\n",
    "    file = csv.writer(_file)\n",
    "\n",
    "    for i in rows:\n",
    "        file.writerow(i)\n",
    "\n",
    "    \n",
    "print(\"\\nWriting Done.\\n\")\n",
    "\n",
    "\n",
    "with open(\"grades.csv\",'r') as _file:\n",
    "        \n",
    "    file = csv.reader(_file)\n",
    "\n",
    "    header = next(file)\n",
    "\n",
    "    for i in file:\n",
    "        i[2] = int(i[2])\n",
    "        i[3] = int(i[3])\n",
    "        i[4] = int(i[4])\n",
    "            \n",
    "        print(i)\n",
    "    \n",
    "\n"
   ]
  },
  {
   "cell_type": "code",
   "execution_count": null,
   "id": "53ba0081",
   "metadata": {},
   "outputs": [
    {
     "name": "stdout",
     "output_type": "stream",
     "text": [
      "Enter the number of students : 30\n",
      "\n",
      "Enter the details of 30 students\n",
      "\n",
      " Student #1\n",
      "First Name  : Sourov \n",
      "Last Name   : Ghosh\n",
      "Exam 1 Mark : 100\n",
      "Exam 2 Mark : 100\n",
      "Exam 3 Mark : 100\n",
      "\n",
      " Student #2\n"
     ]
    }
   ],
   "source": [
    "#Question 9.6\n",
    "\n",
    "import json\n",
    "\n",
    "gradebook = {'students':[]}\n",
    "no_of_students = int(input('Enter the number of students : '))\n",
    "\n",
    "print('\\nEnter the details of', no_of_students, 'students')\n",
    "for i in range(no_of_students):\n",
    "    print('\\n Student #', i+1, sep='')\n",
    "    first_name = input('First Name  : ')\n",
    "    last_name  = input('Last Name   : ')\n",
    "    exam1  = int(input('Exam 1 Mark : '))\n",
    "    exam2  = int(input('Exam 2 Mark : '))\n",
    "    exam3  = int(input('Exam 3 Mark : '))\n",
    "    student_dict = {'first_name':first_name, 'last_name':last_name, 'exam1':exam1, 'exam2':exam2, 'exam3':exam3}\n",
    "    gradebook['students'].append(student_dict)\n",
    "\n",
    "# in case if you want to print the contents of the dictionary gradebook\n",
    "#print('\\nDetails of Students entered into the dictionary\\n')\n",
    "#print(gradebook)\n",
    "                 \n",
    "with open(\"grades.json\", \"w\") as file:  \n",
    "    json.dump(gradebook, file)\n",
    "    print('\\n### Student details has been written to the file grades.json ###')"
   ]
  },
  {
   "cell_type": "code",
   "execution_count": null,
   "id": "740c2810",
   "metadata": {},
   "outputs": [],
   "source": []
  }
 ],
 "metadata": {
  "kernelspec": {
   "display_name": "Python 3 (ipykernel)",
   "language": "python",
   "name": "python3"
  },
  "language_info": {
   "codemirror_mode": {
    "name": "ipython",
    "version": 3
   },
   "file_extension": ".py",
   "mimetype": "text/x-python",
   "name": "python",
   "nbconvert_exporter": "python",
   "pygments_lexer": "ipython3",
   "version": "3.9.12"
  }
 },
 "nbformat": 4,
 "nbformat_minor": 5
}
