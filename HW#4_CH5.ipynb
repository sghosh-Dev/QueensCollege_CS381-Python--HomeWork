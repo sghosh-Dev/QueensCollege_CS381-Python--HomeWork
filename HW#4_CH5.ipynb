{
 "cells": [
  {
   "cell_type": "code",
   "execution_count": 24,
   "id": "40a5d970",
   "metadata": {},
   "outputs": [
    {
     "name": "stdout",
     "output_type": "stream",
     "text": [
      "3\n",
      "[1, 2, 3, 4, 5]\n",
      "[1, 2, 3, 4, 5, 6, 7, 8, 9, 10]\n",
      "[16, 17, 18, 19, 20]\n",
      "[1, 3, 5, 7, 9, 11, 13, 15, 17, 19]\n",
      "18\n"
     ]
    }
   ],
   "source": [
    "#Question 5.5\n",
    "numbers=list(range(1,21))\n",
    "\n",
    "length = int((len(numbers))/2)\n",
    "\n",
    "print(numbers[2])\n",
    "print(numbers[:5])\n",
    "print(numbers[:length])\n",
    "print(numbers[-5:])\n",
    "print(numbers[::2])\n",
    "print(numbers[-3])"
   ]
  },
  {
   "cell_type": "code",
   "execution_count": 26,
   "id": "e4afdb69",
   "metadata": {},
   "outputs": [],
   "source": [
    "#Question 5.9\n",
    "#How I would do it without using a \"stack\"\n",
    "def isPalindrome(s):\n",
    "    if (s == s[::-1]):\n",
    "        return true\n",
    "    return false\n",
    "\n",
    "#using a list as a stack\n",
    "\n",
    "\n",
    "def palindrome(s):\n",
    "    stack=[]\n",
    "    mid = len(s)//2\n",
    "    \n",
    "    for a in s[::mid]:\n",
    "        stack.append(a)\n",
    "        \n",
    "    if len(s)%2 == 0:\n",
    "        mid+=1\n",
    "    for a in s[mid:]:\n",
    "        if stack.pop() != c:\n",
    "            return false\n",
    "    return true"
   ]
  },
  {
   "cell_type": "code",
   "execution_count": null,
   "id": "34649572",
   "metadata": {},
   "outputs": [],
   "source": []
  }
 ],
 "metadata": {
  "kernelspec": {
   "display_name": "Python 3 (ipykernel)",
   "language": "python",
   "name": "python3"
  },
  "language_info": {
   "codemirror_mode": {
    "name": "ipython",
    "version": 3
   },
   "file_extension": ".py",
   "mimetype": "text/x-python",
   "name": "python",
   "nbconvert_exporter": "python",
   "pygments_lexer": "ipython3",
   "version": "3.9.12"
  }
 },
 "nbformat": 4,
 "nbformat_minor": 5
}
