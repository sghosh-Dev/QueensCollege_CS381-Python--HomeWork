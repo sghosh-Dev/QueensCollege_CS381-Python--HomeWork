{
 "cells": [
  {
   "cell_type": "code",
   "execution_count": 46,
   "id": "5f0255ee",
   "metadata": {},
   "outputs": [
    {
     "name": "stdout",
     "output_type": "stream",
     "text": [
      "Hour\tNumber of Bacteria\n",
      " 0\t    200.00\n",
      " 5\t   6400.00\n",
      "10\t 204800.00\n",
      "15\t6553600.00\n"
     ]
    }
   ],
   "source": [
    "#Question 2.8 -- Table with Number of Bacteria\n",
    "init_bacteria = 200\n",
    "rate = .05\n",
    "hours = \"hours\"\n",
    "numberof_bacteria = \"Number of Bacteria\"\n",
    "print('Hour\\tNumber of Bacteria')\n",
    "for year in range(0,16,5):\n",
    "    number_bacteria = init_bacteria * (2**year)\n",
    "    print(f'{year:>2}\\t{number_bacteria:>10.2f}')\n"
   ]
  },
  {
   "cell_type": "code",
   "execution_count": 6,
   "id": "dc42be2a",
   "metadata": {
    "scrolled": true
   },
   "outputs": [
    {
     "name": "stdout",
     "output_type": "stream",
     "text": [
      "11.592740743\n",
      "9.408999999999999\n",
      "10.907609765088699\n"
     ]
    }
   ],
   "source": [
    "#Question 2.12\n",
    "#Wage after 5 years of good reviews\n",
    "o = 10 #hourly_wage\n",
    "p = .03 #3% raise\n",
    "n = 5 #number of years\n",
    "w = o*((1+p)**n)\n",
    "print(w)\n",
    "\n",
    "#Hourly Wage after 2 years of bad reviews, \n",
    "p = -.03\n",
    "n = 2\n",
    "w = o*((1+p)**n)\n",
    "print(w)\n",
    "\n",
    "#wage after 5 years of good reviews and then 2 years of bad reviews (together)\n",
    "o = 10 #hourly_wage\n",
    "p = .03 #3% raise\n",
    "n = 5 #number of years\n",
    "w = o*((1+p)**n)\n",
    "\n",
    "o=w\n",
    "p = -.03\n",
    "n = 2\n",
    "w = o*((1+p)**n)\n",
    "print(w)"
   ]
  },
  {
   "cell_type": "code",
   "execution_count": 1,
   "id": "118e3d95",
   "metadata": {},
   "outputs": [
    {
     "name": "stdout",
     "output_type": "stream",
     "text": [
      "9223372036854775807\n",
      "9223372036854775808\n",
      "9223372036854775808\n"
     ]
    },
    {
     "data": {
      "text/plain": [
       "int"
      ]
     },
     "execution_count": 1,
     "metadata": {},
     "output_type": "execute_result"
    }
   ],
   "source": [
    "#Question 2.13\n",
    "import sys\n",
    "print(sys.maxsize)\n",
    "number = sys.maxsize + 1\n",
    "print(number)\n",
    "\n",
    "number = 10000000000**100000000000000000000000000000000000000000000000000000 #does not run, or takes long time\n",
    "print(number)\n",
    "print(10000000000**100000000000000000000000000000000000000000000000000000) #does not run, or takes long time\n",
    "type(number)\n",
    "\n",
    "#Python 3 does not have an integer limit\n",
    "#No error is returned but the number is not being displayed in the console, and no lines inside the notebook are able to run after\n",
    "#trying to produce a very large number.\n",
    "#There is a \"In [*] meaning that the kernel is busy -- had to restart the Kernel (with Dialog to proceed)\""
   ]
  }
 ],
 "metadata": {
  "kernelspec": {
   "display_name": "Python 3 (ipykernel)",
   "language": "python",
   "name": "python3"
  },
  "language_info": {
   "codemirror_mode": {
    "name": "ipython",
    "version": 3
   },
   "file_extension": ".py",
   "mimetype": "text/x-python",
   "name": "python",
   "nbconvert_exporter": "python",
   "pygments_lexer": "ipython3",
   "version": "3.9.12"
  }
 },
 "nbformat": 4,
 "nbformat_minor": 5
}
