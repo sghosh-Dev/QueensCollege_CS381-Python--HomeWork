{
 "cells": [
  {
   "cell_type": "code",
   "execution_count": null,
   "id": "56f44017",
   "metadata": {},
   "outputs": [],
   "source": [
    "#Question 12.16\n",
    "import spacy\n",
    "\n",
    "nlp = spacy.load('en_core_web_sm')  \n",
    "from pathlib import Path\n",
    "\n",
    "document = nlp(Path('RomeoAndJuliet.txt').read_text(encoding='utf-8'))\n",
    "\n",
    "document1 = nlp(Path('duchess.txt').read_text(encoding='utf-8'))\n",
    "\n",
    "print(document.similarity(document1)"
   ]
  },
  {
   "cell_type": "code",
   "execution_count": null,
   "id": "8f5efa6d",
   "metadata": {},
   "outputs": [],
   "source": [
    "#Question 12.6\n",
    "mport collections\n",
    "import pandas as pd\n",
    "import matplotlib.pyplot as plt\n",
    "\n",
    "text = open('pride.txt', encoding=\"utf8\")\n",
    "a= text.read()\n",
    "\n",
    "wordcounter = {}\n",
    "for word in a.lower().split():\n",
    "    if word not in wordcount:\n",
    "        wordcount[word] = 1\n",
    "    else:\n",
    "        wordcount[word] += 1\n",
    "word_counter = collections.Counter(wordcount)\n",
    "for word, count in word_counter.most_common(20):\n",
    "    print(word, \": \", count)\n",
    "file.close()\n",
    "\n",
    "lst = word_counter.most_common(20)\n",
    "df = pd.DataFrame(lst, columns = ['Word', 'Count'])\n",
    "df.plot.bar(x='Word',y='Count')\n",
    "plt.show()"
   ]
  }
 ],
 "metadata": {
  "kernelspec": {
   "display_name": "Python 3 (ipykernel)",
   "language": "python",
   "name": "python3"
  },
  "language_info": {
   "codemirror_mode": {
    "name": "ipython",
    "version": 3
   },
   "file_extension": ".py",
   "mimetype": "text/x-python",
   "name": "python",
   "nbconvert_exporter": "python",
   "pygments_lexer": "ipython3",
   "version": "3.9.12"
  }
 },
 "nbformat": 4,
 "nbformat_minor": 5
}
