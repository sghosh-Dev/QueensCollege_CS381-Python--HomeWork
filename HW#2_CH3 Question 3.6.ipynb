{
 "cells": [
  {
   "cell_type": "code",
   "execution_count": 1,
   "id": "4a7655ff",
   "metadata": {},
   "outputs": [
    {
     "name": "stdout",
     "output_type": "stream",
     "text": [
      "What is your problem?a lot\n",
      "Have you had this problem before?no\n",
      "Well, you have it now.\n"
     ]
    }
   ],
   "source": [
    "#Question 3.6 Turing Test\n",
    "problem = input(\"What is your problem?\")\n",
    "if problem:\n",
    "    problem2 = input(\"Have you had this problem before?\")\n",
    "    if problem2 =='yes':\n",
    "        print(\"Well, you have it again.\")\n",
    "    elif problem2 =='no':\n",
    "        print(\"Well, you have it now.\")\n",
    "    else:\n",
    "        print(\"Please answer yes or no\")\n",
    "        \n",
    "#This will not convince the user that the entity at the other end exhibited intelligent behavior because if the answer to the first question is very general\n",
    "#then saying you have\"it\" \"again\" or \"now\" does not mean anything with the little information given. Additionally, if the user completes the question\n",
    "#multiple times, they will realize its saying the same things."
   ]
  },
  {
   "cell_type": "code",
   "execution_count": null,
   "id": "0da130e8",
   "metadata": {},
   "outputs": [],
   "source": []
  }
 ],
 "metadata": {
  "kernelspec": {
   "display_name": "Python 3 (ipykernel)",
   "language": "python",
   "name": "python3"
  },
  "language_info": {
   "codemirror_mode": {
    "name": "ipython",
    "version": 3
   },
   "file_extension": ".py",
   "mimetype": "text/x-python",
   "name": "python",
   "nbconvert_exporter": "python",
   "pygments_lexer": "ipython3",
   "version": "3.9.12"
  }
 },
 "nbformat": 4,
 "nbformat_minor": 5
}
