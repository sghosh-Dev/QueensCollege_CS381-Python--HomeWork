{
 "cells": [
  {
   "cell_type": "code",
   "execution_count": 18,
   "id": "d3908e9b",
   "metadata": {},
   "outputs": [
    {
     "name": "stdout",
     "output_type": "stream",
     "text": [
      "10.333333333333334\n",
      "10\n",
      "1.0\n",
      "0.3333333333333335\n",
      "The last one 10//(3-3) would print an error becasue of 3-3 =0\n"
     ]
    }
   ],
   "source": [
    "#Question 1.2\n",
    "print(10/3+7)\n",
    "print(10//3+7)\n",
    "print(10 / (3 + 7))\n",
    "print(10 / 3 - 3)\n",
    "#print(10//(3-3))\n",
    "print(\"The last one 10//(3-3) would print an error becasue of 3-3 =0\")"
   ]
  },
  {
   "cell_type": "code",
   "execution_count": 16,
   "id": "39d60465",
   "metadata": {},
   "outputs": [
    {
     "name": "stdout",
     "output_type": "stream",
     "text": [
      "Input a number between 1 and 102\n",
      "4\n",
      "Congratulations! Your grade of 91 earns you an A in this course\n"
     ]
    }
   ],
   "source": [
    "#Question 2.2\n",
    "\n",
    "#The issue with the program below is that when a number is being inputted, it is inputted as a string, and you cannot multiply\n",
    "#a string and another string. See the solution below: change to int using int()\n",
    "number = int(input(\"Input a number between 1 and 10\"))\n",
    "square = number * number\n",
    "print(square)\n",
    "\n",
    "#Question 2.3\n",
    "grade = 91\n",
    "if grade >= 90:\n",
    "    print(\"Congratulations! Your grade of \" + str(grade) + \" earns you an A in this course\")"
   ]
  },
  {
   "cell_type": "code",
   "execution_count": 14,
   "id": "4856aad2",
   "metadata": {},
   "outputs": [
    {
     "name": "stdout",
     "output_type": "stream",
     "text": [
      ">>>>>>>>>>\n",
      "<<<<<<<<<<\n",
      ">>>>>>>>>>\n",
      "<<<<<<<<<<\n",
      ">>>>>>>>>>\n",
      "<<<<<<<<<<\n",
      ">>>>>>>>>>\n",
      "<<<<<<<<<<\n",
      ">>>>>>>>>>\n",
      "<<<<<<<<<<\n"
     ]
    }
   ],
   "source": [
    "#Question 3.2\n",
    "for row in range(10):\n",
    "    for column in range(10):\n",
    "        print('<' if row % 2 == 1 else '>', end='')\n",
    "    print()\n",
    "    \n",
    "#This code prints the greater-than symbol \">\" and the less-than symbol \">\"  in an alternating pattern starting with the \n",
    "#greater-than symbol and ending with the less-than symbol. 10 lines of 10 symbols, 5 of \"<\" and 5 of \">\""
   ]
  },
  {
   "cell_type": "code",
   "execution_count": 15,
   "id": "40d8ce6a",
   "metadata": {},
   "outputs": [
    {
     "name": "stdout",
     "output_type": "stream",
     "text": [
      "6\n"
     ]
    }
   ],
   "source": [
    "#Question 4.4\n",
    "def mystery(x):\n",
    "    y = 0\n",
    "    for i in x:\n",
    "        if i % 2 == 0:\n",
    "            y += i\n",
    "    return y\n",
    "\n",
    "list = [1,2,3,4,5]\n",
    "print(mystery(list))\n",
    "\n",
    "#Prints 6, for every number in the list, the numbers that are even(divisble by two) are added up together. 2+4 =6\n",
    "\n",
    "#Question 4.5\n",
    "calc_slope(x1,y1,x2,y2):\n",
    "    delta_x = x2 - x1\n",
    "    delta_y = y2 - y1\n",
    "    slope = delta_y/delta_x\n",
    "    return slope"
   ]
  },
  {
   "cell_type": "code",
   "execution_count": null,
   "id": "c28bab80",
   "metadata": {},
   "outputs": [],
   "source": [
    "#Chapter 5\n",
    "\n",
    "print(fruits[1])\n",
    "fruits.append('lemon')\n",
    "list2 = [x + 4 for x in list1]"
   ]
  }
 ],
 "metadata": {
  "kernelspec": {
   "display_name": "Python 3 (ipykernel)",
   "language": "python",
   "name": "python3"
  },
  "language_info": {
   "codemirror_mode": {
    "name": "ipython",
    "version": 3
   },
   "file_extension": ".py",
   "mimetype": "text/x-python",
   "name": "python",
   "nbconvert_exporter": "python",
   "pygments_lexer": "ipython3",
   "version": "3.9.12"
  }
 },
 "nbformat": 4,
 "nbformat_minor": 5
}
