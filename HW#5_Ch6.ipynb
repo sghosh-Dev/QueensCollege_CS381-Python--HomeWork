{
 "cells": [
  {
   "cell_type": "code",
   "execution_count": 9,
   "id": "d8b02bb3",
   "metadata": {},
   "outputs": [
    {
     "name": "stdout",
     "output_type": "stream",
     "text": [
      "{'a', 'c', 'b'}\n"
     ]
    }
   ],
   "source": [
    "#Question 6.6\n",
    "\n",
    "def email(emails):\n",
    "    emails = [x.lower() for x in emails]\n",
    "    emails = set(emails)\n",
    "    return emails"
   ]
  },
  {
   "cell_type": "code",
   "execution_count": 13,
   "id": "f613f14a",
   "metadata": {},
   "outputs": [],
   "source": [
    "#Question 6.8\n",
    "\n",
    "def num_to_word(num):\n",
    "    d = { 0 : 'zero', 1 : 'one', 2 : 'two', 3 : 'three', 4 : 'four', 5 : 'five',6 : 'six', 7 : 'seven', 8 : 'eight', 9 : 'nine', 10 : 'ten',\n",
    "    11 : 'eleven', 12 : 'twelve', 13 : 'thirteen', 14 : 'fourteen',15 : 'fifteen', 16 : 'sixteen', 17 : 'seventeen', 18 : 'eighteen',\n",
    "    19 : 'nineteen', 20 : 'twenty',30 : 'thirty', 40 : 'forty', 50 : 'fifty', 60 : 'sixty',70 : 'seventy', 80 : 'eighty', 90 : 'ninety' }\n",
    "    k = 1000\n",
    "    m = k * 1000\n",
    "    b = m * 1000\n",
    "    t = b * 1000\n",
    "\n",
    "    assert(0 <= num)\n",
    "\n",
    "    if (num < 20):\n",
    "        return d[num]\n",
    "\n",
    "    if (num < 100):\n",
    "        if num % 10 == 0: \n",
    "            return d[num]\n",
    "    else: \n",
    "        return d[num // 10 * 10] + ' ' + d[num % 10]\n",
    "\n",
    "    if (num < k):\n",
    "        if num % 100 == 0: \n",
    "            return d[num // 100] + ' hundred'\n",
    "        else: return d[num // 100] + ' hundred ' + int_to_en(num % 100)\n",
    "\n",
    "    if (num < m):\n",
    "        if num % k == 0: \n",
    "            return int_to_en(num // k) + ' thousand'\n",
    "    else: \n",
    "        return int_to_en(num // k) + ' thousand, ' + int_to_en(num % k)\n",
    "\n",
    "    amount = input()\n",
    "    arr = amount.split('.')\n",
    "    if len(arr)==2 :\n",
    "        print(int_to_en(int(arr[0])).upper(),\"AND\",arr[1],\"/\",10**(len(arr[1])))\n",
    "    else :\n",
    "        print(int_to_en(int(arr[0])).upper())\n",
    "    \n",
    "    single_digits = [\"zero\",\"one\", ]"
   ]
  },
  {
   "cell_type": "code",
   "execution_count": null,
   "id": "8a08fc10",
   "metadata": {},
   "outputs": [],
   "source": [
    "#Question 6.9\n",
    "\n",
    "tlds =  {'Canada': 'ca', 'United States': 'us', 'Mexico': 'mx'}\n",
    "inp = input(\"Choose an option from: a, b, c, d ,e - \")\n",
    "\n",
    "\n",
    "if inp == 'a':\n",
    "    inp1 = input(\"Select a country\")\n",
    "    print(tlds[inp1])\n",
    "if inp == 'b':\n",
    "    for k, v in tlds.items():\n",
    "        print(k,v)\n",
    "if inp == 'c':\n",
    "    inp2 = input(\"add or change\")\n",
    "    \n",
    "    if inp2 ==\"add\":\n",
    "        key = input(\"what is the name of the country?\")\n",
    "        value = input(\"what is the abbreviation of the country?\")\n",
    "        tlds.add(key, value)\n",
    "    else:\n",
    "        change = input(\"Which country do you want to update?\")\n",
    "        value1 = input(\"What is the countries abreviation?\")\n",
    "        tlds[change] = value1      \n",
    "shallowCopy = {}        \n",
    "if inp == 'd':\n",
    "    shallowCopy = dict(tlds)\n",
    "    shallowCopy = {value:key for key, value in shallowCopy.items()}\n",
    "    print(shallowCopy)\n",
    "if inp == 'e':\n",
    "    for k,v in tlds.items():\n",
    "        tlds.update({v.upper()})\n",
    "    print(tlds)\n"
   ]
  },
  {
   "cell_type": "code",
   "execution_count": 2,
   "id": "efbd3deb",
   "metadata": {},
   "outputs": [
    {
     "name": "stdout",
     "output_type": "stream",
     "text": [
      "Who does Sean Bean play?Ned Stark\n",
      "Who does Mark Addy play?Ned Stark\n",
      "That is incorrect, Robert Baratheon is the right answer\n"
     ]
    }
   ],
   "source": [
    "#Question 6.12\n",
    "\n",
    "actors = {\"Sean Bean\":\"Ned Stark\", \"Mark Addy\": \"Robert Baratheon\", \"Nikolaj Coster-Waldau\":\"Jamie Lannister\", \"Michelle Fairley\": \"Catelyn Stark\", \"Lena Headey\": \"Cersei Lannister\"}\n",
    "\n",
    "for x in actors:\n",
    "    input1 = input(\"Who does \" + x+ \" play?\")\n",
    "    if input1 != actors[x]:\n",
    "        print(\"That is incorrect, \" + actors[x] + \" is the right answer\" )\n",
    "        break"
   ]
  },
  {
   "cell_type": "code",
   "execution_count": null,
   "id": "e0357c00",
   "metadata": {},
   "outputs": [],
   "source": []
  }
 ],
 "metadata": {
  "kernelspec": {
   "display_name": "Python 3 (ipykernel)",
   "language": "python",
   "name": "python3"
  },
  "language_info": {
   "codemirror_mode": {
    "name": "ipython",
    "version": 3
   },
   "file_extension": ".py",
   "mimetype": "text/x-python",
   "name": "python",
   "nbconvert_exporter": "python",
   "pygments_lexer": "ipython3",
   "version": "3.9.12"
  }
 },
 "nbformat": 4,
 "nbformat_minor": 5
}
